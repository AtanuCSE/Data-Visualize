{
  "nbformat": 4,
  "nbformat_minor": 0,
  "metadata": {
    "colab": {
      "name": "01_Plotly_Histogram.ipynb",
      "provenance": [],
      "collapsed_sections": [],
      "toc_visible": true
    },
    "kernelspec": {
      "name": "python3",
      "display_name": "Python 3"
    }
  },
  "cells": [
    {
      "cell_type": "markdown",
      "metadata": {
        "id": "tJ5kXfwS9l8T",
        "colab_type": "text"
      },
      "source": [
        "# **Chart_Studio Plotly + Cufflinks**\n",
        "___\n",
        "___"
      ]
    },
    {
      "cell_type": "markdown",
      "metadata": {
        "id": "PYd1DqYE9uTF",
        "colab_type": "text"
      },
      "source": [
        "***Topics***\n",
        "\n",
        "*   Dataset idea using pandas plot\n",
        "*   Imports and Initializations\n",
        "*   **Function for vizualizing in Google Colab**\n",
        "*   Histogram on one column\n",
        "*   **Percentage** distribution histogram\n",
        "*   **Normalized** Histogram (Probability Density)\n",
        "*   Histogram with **Multple Group / Feature / Attribute**\n",
        "\n",
        "\n"
      ]
    },
    {
      "cell_type": "code",
      "metadata": {
        "id": "ZyTwF1za9dRy",
        "colab_type": "code",
        "colab": {
          "base_uri": "https://localhost:8080/",
          "height": 972
        },
        "outputId": "0a6a88b2-714d-4f94-f5fb-c6d2de61db66"
      },
      "source": [
        "!pip install cufflinks chart_studio plotly"
      ],
      "execution_count": 1,
      "outputs": [
        {
          "output_type": "stream",
          "text": [
            "Requirement already satisfied: cufflinks in /usr/local/lib/python3.6/dist-packages (0.17.3)\n",
            "Collecting chart_studio\n",
            "\u001b[?25l  Downloading https://files.pythonhosted.org/packages/ca/ce/330794a6b6ca4b9182c38fc69dd2a9cbff60fd49421cb8648ee5fee352dc/chart_studio-1.1.0-py3-none-any.whl (64kB)\n",
            "\r\u001b[K     |█████                           | 10kB 18.0MB/s eta 0:00:01\r\u001b[K     |██████████▏                     | 20kB 2.9MB/s eta 0:00:01\r\u001b[K     |███████████████▎                | 30kB 3.9MB/s eta 0:00:01\r\u001b[K     |████████████████████▍           | 40kB 4.3MB/s eta 0:00:01\r\u001b[K     |█████████████████████████▍      | 51kB 3.4MB/s eta 0:00:01\r\u001b[K     |██████████████████████████████▌ | 61kB 3.7MB/s eta 0:00:01\r\u001b[K     |████████████████████████████████| 71kB 3.0MB/s \n",
            "\u001b[?25hRequirement already satisfied: plotly in /usr/local/lib/python3.6/dist-packages (4.4.1)\n",
            "Requirement already satisfied: ipython>=5.3.0 in /usr/local/lib/python3.6/dist-packages (from cufflinks) (5.5.0)\n",
            "Requirement already satisfied: setuptools>=34.4.1 in /usr/local/lib/python3.6/dist-packages (from cufflinks) (49.2.0)\n",
            "Requirement already satisfied: pandas>=0.19.2 in /usr/local/lib/python3.6/dist-packages (from cufflinks) (1.0.5)\n",
            "Requirement already satisfied: ipywidgets>=7.0.0 in /usr/local/lib/python3.6/dist-packages (from cufflinks) (7.5.1)\n",
            "Requirement already satisfied: six>=1.9.0 in /usr/local/lib/python3.6/dist-packages (from cufflinks) (1.15.0)\n",
            "Requirement already satisfied: numpy>=1.9.2 in /usr/local/lib/python3.6/dist-packages (from cufflinks) (1.18.5)\n",
            "Requirement already satisfied: colorlover>=0.2.1 in /usr/local/lib/python3.6/dist-packages (from cufflinks) (0.3.0)\n",
            "Requirement already satisfied: retrying>=1.3.3 in /usr/local/lib/python3.6/dist-packages (from chart_studio) (1.3.3)\n",
            "Requirement already satisfied: requests in /usr/local/lib/python3.6/dist-packages (from chart_studio) (2.23.0)\n",
            "Requirement already satisfied: prompt-toolkit<2.0.0,>=1.0.4 in /usr/local/lib/python3.6/dist-packages (from ipython>=5.3.0->cufflinks) (1.0.18)\n",
            "Requirement already satisfied: pygments in /usr/local/lib/python3.6/dist-packages (from ipython>=5.3.0->cufflinks) (2.1.3)\n",
            "Requirement already satisfied: decorator in /usr/local/lib/python3.6/dist-packages (from ipython>=5.3.0->cufflinks) (4.4.2)\n",
            "Requirement already satisfied: pickleshare in /usr/local/lib/python3.6/dist-packages (from ipython>=5.3.0->cufflinks) (0.7.5)\n",
            "Requirement already satisfied: pexpect; sys_platform != \"win32\" in /usr/local/lib/python3.6/dist-packages (from ipython>=5.3.0->cufflinks) (4.8.0)\n",
            "Requirement already satisfied: traitlets>=4.2 in /usr/local/lib/python3.6/dist-packages (from ipython>=5.3.0->cufflinks) (4.3.3)\n",
            "Requirement already satisfied: simplegeneric>0.8 in /usr/local/lib/python3.6/dist-packages (from ipython>=5.3.0->cufflinks) (0.8.1)\n",
            "Requirement already satisfied: python-dateutil>=2.6.1 in /usr/local/lib/python3.6/dist-packages (from pandas>=0.19.2->cufflinks) (2.8.1)\n",
            "Requirement already satisfied: pytz>=2017.2 in /usr/local/lib/python3.6/dist-packages (from pandas>=0.19.2->cufflinks) (2018.9)\n",
            "Requirement already satisfied: ipykernel>=4.5.1 in /usr/local/lib/python3.6/dist-packages (from ipywidgets>=7.0.0->cufflinks) (4.10.1)\n",
            "Requirement already satisfied: nbformat>=4.2.0 in /usr/local/lib/python3.6/dist-packages (from ipywidgets>=7.0.0->cufflinks) (5.0.7)\n",
            "Requirement already satisfied: widgetsnbextension~=3.5.0 in /usr/local/lib/python3.6/dist-packages (from ipywidgets>=7.0.0->cufflinks) (3.5.1)\n",
            "Requirement already satisfied: chardet<4,>=3.0.2 in /usr/local/lib/python3.6/dist-packages (from requests->chart_studio) (3.0.4)\n",
            "Requirement already satisfied: idna<3,>=2.5 in /usr/local/lib/python3.6/dist-packages (from requests->chart_studio) (2.10)\n",
            "Requirement already satisfied: urllib3!=1.25.0,!=1.25.1,<1.26,>=1.21.1 in /usr/local/lib/python3.6/dist-packages (from requests->chart_studio) (1.24.3)\n",
            "Requirement already satisfied: certifi>=2017.4.17 in /usr/local/lib/python3.6/dist-packages (from requests->chart_studio) (2020.6.20)\n",
            "Requirement already satisfied: wcwidth in /usr/local/lib/python3.6/dist-packages (from prompt-toolkit<2.0.0,>=1.0.4->ipython>=5.3.0->cufflinks) (0.2.5)\n",
            "Requirement already satisfied: ptyprocess>=0.5 in /usr/local/lib/python3.6/dist-packages (from pexpect; sys_platform != \"win32\"->ipython>=5.3.0->cufflinks) (0.6.0)\n",
            "Requirement already satisfied: ipython-genutils in /usr/local/lib/python3.6/dist-packages (from traitlets>=4.2->ipython>=5.3.0->cufflinks) (0.2.0)\n",
            "Requirement already satisfied: tornado>=4.0 in /usr/local/lib/python3.6/dist-packages (from ipykernel>=4.5.1->ipywidgets>=7.0.0->cufflinks) (5.1.1)\n",
            "Requirement already satisfied: jupyter-client in /usr/local/lib/python3.6/dist-packages (from ipykernel>=4.5.1->ipywidgets>=7.0.0->cufflinks) (5.3.5)\n",
            "Requirement already satisfied: jsonschema!=2.5.0,>=2.4 in /usr/local/lib/python3.6/dist-packages (from nbformat>=4.2.0->ipywidgets>=7.0.0->cufflinks) (2.6.0)\n",
            "Requirement already satisfied: jupyter-core in /usr/local/lib/python3.6/dist-packages (from nbformat>=4.2.0->ipywidgets>=7.0.0->cufflinks) (4.6.3)\n",
            "Requirement already satisfied: notebook>=4.4.1 in /usr/local/lib/python3.6/dist-packages (from widgetsnbextension~=3.5.0->ipywidgets>=7.0.0->cufflinks) (5.3.1)\n",
            "Requirement already satisfied: pyzmq>=13 in /usr/local/lib/python3.6/dist-packages (from jupyter-client->ipykernel>=4.5.1->ipywidgets>=7.0.0->cufflinks) (19.0.1)\n",
            "Requirement already satisfied: nbconvert in /usr/local/lib/python3.6/dist-packages (from notebook>=4.4.1->widgetsnbextension~=3.5.0->ipywidgets>=7.0.0->cufflinks) (5.6.1)\n",
            "Requirement already satisfied: jinja2 in /usr/local/lib/python3.6/dist-packages (from notebook>=4.4.1->widgetsnbextension~=3.5.0->ipywidgets>=7.0.0->cufflinks) (2.11.2)\n",
            "Requirement already satisfied: Send2Trash in /usr/local/lib/python3.6/dist-packages (from notebook>=4.4.1->widgetsnbextension~=3.5.0->ipywidgets>=7.0.0->cufflinks) (1.5.0)\n",
            "Requirement already satisfied: terminado>=0.8.1 in /usr/local/lib/python3.6/dist-packages (from notebook>=4.4.1->widgetsnbextension~=3.5.0->ipywidgets>=7.0.0->cufflinks) (0.8.3)\n",
            "Requirement already satisfied: defusedxml in /usr/local/lib/python3.6/dist-packages (from nbconvert->notebook>=4.4.1->widgetsnbextension~=3.5.0->ipywidgets>=7.0.0->cufflinks) (0.6.0)\n",
            "Requirement already satisfied: bleach in /usr/local/lib/python3.6/dist-packages (from nbconvert->notebook>=4.4.1->widgetsnbextension~=3.5.0->ipywidgets>=7.0.0->cufflinks) (3.1.5)\n",
            "Requirement already satisfied: mistune<2,>=0.8.1 in /usr/local/lib/python3.6/dist-packages (from nbconvert->notebook>=4.4.1->widgetsnbextension~=3.5.0->ipywidgets>=7.0.0->cufflinks) (0.8.4)\n",
            "Requirement already satisfied: testpath in /usr/local/lib/python3.6/dist-packages (from nbconvert->notebook>=4.4.1->widgetsnbextension~=3.5.0->ipywidgets>=7.0.0->cufflinks) (0.4.4)\n",
            "Requirement already satisfied: entrypoints>=0.2.2 in /usr/local/lib/python3.6/dist-packages (from nbconvert->notebook>=4.4.1->widgetsnbextension~=3.5.0->ipywidgets>=7.0.0->cufflinks) (0.3)\n",
            "Requirement already satisfied: pandocfilters>=1.4.1 in /usr/local/lib/python3.6/dist-packages (from nbconvert->notebook>=4.4.1->widgetsnbextension~=3.5.0->ipywidgets>=7.0.0->cufflinks) (1.4.2)\n",
            "Requirement already satisfied: MarkupSafe>=0.23 in /usr/local/lib/python3.6/dist-packages (from jinja2->notebook>=4.4.1->widgetsnbextension~=3.5.0->ipywidgets>=7.0.0->cufflinks) (1.1.1)\n",
            "Requirement already satisfied: packaging in /usr/local/lib/python3.6/dist-packages (from bleach->nbconvert->notebook>=4.4.1->widgetsnbextension~=3.5.0->ipywidgets>=7.0.0->cufflinks) (20.4)\n",
            "Requirement already satisfied: webencodings in /usr/local/lib/python3.6/dist-packages (from bleach->nbconvert->notebook>=4.4.1->widgetsnbextension~=3.5.0->ipywidgets>=7.0.0->cufflinks) (0.5.1)\n",
            "Requirement already satisfied: pyparsing>=2.0.2 in /usr/local/lib/python3.6/dist-packages (from packaging->bleach->nbconvert->notebook>=4.4.1->widgetsnbextension~=3.5.0->ipywidgets>=7.0.0->cufflinks) (2.4.7)\n",
            "Installing collected packages: chart-studio\n",
            "Successfully installed chart-studio-1.1.0\n"
          ],
          "name": "stdout"
        }
      ]
    },
    {
      "cell_type": "markdown",
      "metadata": {
        "id": "M1HSwXbt-Rxq",
        "colab_type": "text"
      },
      "source": [
        "## Import List"
      ]
    },
    {
      "cell_type": "code",
      "metadata": {
        "id": "UbtvToiW-aF1",
        "colab_type": "code",
        "colab": {}
      },
      "source": [
        "# plotly imports\n",
        "import plotly.graph_objs as go\n",
        "import chart_studio.plotly as py\n",
        "# Cufflinks wrapper on plotly\n",
        "import cufflinks as cf\n",
        "\n",
        "import pandas as pd\n",
        "import numpy as np\n",
        "\n",
        "%matplotlib inline\n",
        "\n",
        "# Options for pandas\n",
        "pd.options.display.max_columns = 30\n",
        "\n",
        "# Display all cell outputs\n",
        "from IPython.core.interactiveshell import InteractiveShell\n",
        "InteractiveShell.ast_node_interactivity = 'all'"
      ],
      "execution_count": 2,
      "outputs": []
    },
    {
      "cell_type": "markdown",
      "metadata": {
        "id": "U5zQZrFL-cqK",
        "colab_type": "text"
      },
      "source": [
        "## Initializations"
      ]
    },
    {
      "cell_type": "markdown",
      "metadata": {
        "id": "SIhkr3QpIs6_",
        "colab_type": "text"
      },
      "source": [
        "**This function is required for GOOGLE COLAB plotly view**\n",
        "Need to call the following line in **every cell** if it contains vizualization code\n",
        "\n",
        "`configure_plotly_browser_state()`\n",
        "\n",
        "`init_notebook_mode(connected=False)`"
      ]
    },
    {
      "cell_type": "code",
      "metadata": {
        "id": "_Fj9eWIIIHto",
        "colab_type": "code",
        "colab": {}
      },
      "source": [
        "def configure_plotly_browser_state():\n",
        "  import IPython\n",
        "  display(IPython.core.display.HTML('''\n",
        "        <script src=\"/static/components/requirejs/require.js\"></script>\n",
        "        <script>\n",
        "          requirejs.config({\n",
        "            paths: {\n",
        "              base: '/static/base',\n",
        "              plotly: 'https://cdn.plot.ly/plotly-latest.min.js?noext',\n",
        "            },\n",
        "          });\n",
        "        </script>\n",
        "        '''))"
      ],
      "execution_count": 3,
      "outputs": []
    },
    {
      "cell_type": "code",
      "metadata": {
        "id": "zDCbPEIV-h2k",
        "colab_type": "code",
        "colab": {
          "base_uri": "https://localhost:8080/",
          "height": 17
        },
        "outputId": "75719c0d-b4c1-465e-e5c6-2b25177ba923"
      },
      "source": [
        "from plotly.offline import iplot, init_notebook_mode\n",
        "init_notebook_mode(connected=True)\n",
        "cf.go_offline(connected=True)\n",
        "\n",
        "# Set global theme\n",
        "cf.set_config_file(world_readable=True, theme='pearl')"
      ],
      "execution_count": 4,
      "outputs": [
        {
          "output_type": "display_data",
          "data": {
            "text/html": [
              "        <script type=\"text/javascript\">\n",
              "        window.PlotlyConfig = {MathJaxConfig: 'local'};\n",
              "        if (window.MathJax) {MathJax.Hub.Config({SVG: {font: \"STIX-Web\"}});}\n",
              "        if (typeof require !== 'undefined') {\n",
              "        require.undef(\"plotly\");\n",
              "        requirejs.config({\n",
              "            paths: {\n",
              "                'plotly': ['https://cdn.plot.ly/plotly-latest.min']\n",
              "            }\n",
              "        });\n",
              "        require(['plotly'], function(Plotly) {\n",
              "            window._Plotly = Plotly;\n",
              "        });\n",
              "        }\n",
              "        </script>\n",
              "        "
            ]
          },
          "metadata": {
            "tags": []
          }
        },
        {
          "output_type": "display_data",
          "data": {
            "text/html": [
              "        <script type=\"text/javascript\">\n",
              "        window.PlotlyConfig = {MathJaxConfig: 'local'};\n",
              "        if (window.MathJax) {MathJax.Hub.Config({SVG: {font: \"STIX-Web\"}});}\n",
              "        if (typeof require !== 'undefined') {\n",
              "        require.undef(\"plotly\");\n",
              "        requirejs.config({\n",
              "            paths: {\n",
              "                'plotly': ['https://cdn.plot.ly/plotly-latest.min']\n",
              "            }\n",
              "        });\n",
              "        require(['plotly'], function(Plotly) {\n",
              "            window._Plotly = Plotly;\n",
              "        });\n",
              "        }\n",
              "        </script>\n",
              "        "
            ]
          },
          "metadata": {
            "tags": []
          }
        }
      ]
    },
    {
      "cell_type": "markdown",
      "metadata": {
        "id": "sLg4VSKh_67f",
        "colab_type": "text"
      },
      "source": [
        "## Data"
      ]
    },
    {
      "cell_type": "code",
      "metadata": {
        "id": "gBBYLLHI_87u",
        "colab_type": "code",
        "colab": {
          "base_uri": "https://localhost:8080/",
          "height": 238
        },
        "outputId": "20ab9d9e-b5d5-413e-9122-2e36879a196e"
      },
      "source": [
        "df = pd.read_csv('olympics.csv', skiprows=1)\n",
        "df = df[:(len(df)-1)]\n",
        "df.head()"
      ],
      "execution_count": 5,
      "outputs": [
        {
          "output_type": "execute_result",
          "data": {
            "text/html": [
              "<div>\n",
              "<style scoped>\n",
              "    .dataframe tbody tr th:only-of-type {\n",
              "        vertical-align: middle;\n",
              "    }\n",
              "\n",
              "    .dataframe tbody tr th {\n",
              "        vertical-align: top;\n",
              "    }\n",
              "\n",
              "    .dataframe thead th {\n",
              "        text-align: right;\n",
              "    }\n",
              "</style>\n",
              "<table border=\"1\" class=\"dataframe\">\n",
              "  <thead>\n",
              "    <tr style=\"text-align: right;\">\n",
              "      <th></th>\n",
              "      <th>Unnamed: 0</th>\n",
              "      <th>№ Summer</th>\n",
              "      <th>01 !</th>\n",
              "      <th>02 !</th>\n",
              "      <th>03 !</th>\n",
              "      <th>Total</th>\n",
              "      <th>№ Winter</th>\n",
              "      <th>01 !.1</th>\n",
              "      <th>02 !.1</th>\n",
              "      <th>03 !.1</th>\n",
              "      <th>Total.1</th>\n",
              "      <th>№ Games</th>\n",
              "      <th>01 !.2</th>\n",
              "      <th>02 !.2</th>\n",
              "      <th>03 !.2</th>\n",
              "      <th>Combined total</th>\n",
              "    </tr>\n",
              "  </thead>\n",
              "  <tbody>\n",
              "    <tr>\n",
              "      <th>0</th>\n",
              "      <td>Afghanistan (AFG)</td>\n",
              "      <td>13</td>\n",
              "      <td>0</td>\n",
              "      <td>0</td>\n",
              "      <td>2</td>\n",
              "      <td>2</td>\n",
              "      <td>0</td>\n",
              "      <td>0</td>\n",
              "      <td>0</td>\n",
              "      <td>0</td>\n",
              "      <td>0</td>\n",
              "      <td>13</td>\n",
              "      <td>0</td>\n",
              "      <td>0</td>\n",
              "      <td>2</td>\n",
              "      <td>2</td>\n",
              "    </tr>\n",
              "    <tr>\n",
              "      <th>1</th>\n",
              "      <td>Algeria (ALG)</td>\n",
              "      <td>12</td>\n",
              "      <td>5</td>\n",
              "      <td>2</td>\n",
              "      <td>8</td>\n",
              "      <td>15</td>\n",
              "      <td>3</td>\n",
              "      <td>0</td>\n",
              "      <td>0</td>\n",
              "      <td>0</td>\n",
              "      <td>0</td>\n",
              "      <td>15</td>\n",
              "      <td>5</td>\n",
              "      <td>2</td>\n",
              "      <td>8</td>\n",
              "      <td>15</td>\n",
              "    </tr>\n",
              "    <tr>\n",
              "      <th>2</th>\n",
              "      <td>Argentina (ARG)</td>\n",
              "      <td>23</td>\n",
              "      <td>18</td>\n",
              "      <td>24</td>\n",
              "      <td>28</td>\n",
              "      <td>70</td>\n",
              "      <td>18</td>\n",
              "      <td>0</td>\n",
              "      <td>0</td>\n",
              "      <td>0</td>\n",
              "      <td>0</td>\n",
              "      <td>41</td>\n",
              "      <td>18</td>\n",
              "      <td>24</td>\n",
              "      <td>28</td>\n",
              "      <td>70</td>\n",
              "    </tr>\n",
              "    <tr>\n",
              "      <th>3</th>\n",
              "      <td>Armenia (ARM)</td>\n",
              "      <td>5</td>\n",
              "      <td>1</td>\n",
              "      <td>2</td>\n",
              "      <td>9</td>\n",
              "      <td>12</td>\n",
              "      <td>6</td>\n",
              "      <td>0</td>\n",
              "      <td>0</td>\n",
              "      <td>0</td>\n",
              "      <td>0</td>\n",
              "      <td>11</td>\n",
              "      <td>1</td>\n",
              "      <td>2</td>\n",
              "      <td>9</td>\n",
              "      <td>12</td>\n",
              "    </tr>\n",
              "    <tr>\n",
              "      <th>4</th>\n",
              "      <td>Australasia (ANZ) [ANZ]</td>\n",
              "      <td>2</td>\n",
              "      <td>3</td>\n",
              "      <td>4</td>\n",
              "      <td>5</td>\n",
              "      <td>12</td>\n",
              "      <td>0</td>\n",
              "      <td>0</td>\n",
              "      <td>0</td>\n",
              "      <td>0</td>\n",
              "      <td>0</td>\n",
              "      <td>2</td>\n",
              "      <td>3</td>\n",
              "      <td>4</td>\n",
              "      <td>5</td>\n",
              "      <td>12</td>\n",
              "    </tr>\n",
              "  </tbody>\n",
              "</table>\n",
              "</div>"
            ],
            "text/plain": [
              "                Unnamed: 0  № Summer  01 !  02 !  03 !  Total  № Winter  \\\n",
              "0        Afghanistan (AFG)        13     0     0     2      2         0   \n",
              "1            Algeria (ALG)        12     5     2     8     15         3   \n",
              "2          Argentina (ARG)        23    18    24    28     70        18   \n",
              "3            Armenia (ARM)         5     1     2     9     12         6   \n",
              "4  Australasia (ANZ) [ANZ]         2     3     4     5     12         0   \n",
              "\n",
              "   01 !.1  02 !.1  03 !.1  Total.1  № Games  01 !.2  02 !.2  03 !.2  \\\n",
              "0       0       0       0        0       13       0       0       2   \n",
              "1       0       0       0        0       15       5       2       8   \n",
              "2       0       0       0        0       41      18      24      28   \n",
              "3       0       0       0        0       11       1       2       9   \n",
              "4       0       0       0        0        2       3       4       5   \n",
              "\n",
              "   Combined total  \n",
              "0               2  \n",
              "1              15  \n",
              "2              70  \n",
              "3              12  \n",
              "4              12  "
            ]
          },
          "metadata": {
            "tags": []
          },
          "execution_count": 5
        }
      ]
    },
    {
      "cell_type": "code",
      "metadata": {
        "id": "xRMKHcmWAYBn",
        "colab_type": "code",
        "colab": {
          "base_uri": "https://localhost:8080/",
          "height": 697
        },
        "outputId": "dcaf2681-4322-44e3-ce31-690f420c525a"
      },
      "source": [
        "for col in df.columns:\n",
        "    if col[:2]=='01':\n",
        "        df.rename(columns={col:'Gold' + col[4:]}, inplace=True)\n",
        "    if col[:2]=='02':\n",
        "        df.rename(columns={col:'Silver' + col[4:]}, inplace=True)\n",
        "    if col[:2]=='03':\n",
        "        df.rename(columns={col:'Bronze' + col[4:]}, inplace=True)\n",
        "    if col[:1]=='№':\n",
        "        df.rename(columns={col:'#' + col[1:]}, inplace=True) \n",
        "\n",
        "print(df.head(2))\n",
        "print(df.describe())"
      ],
      "execution_count": 6,
      "outputs": [
        {
          "output_type": "stream",
          "text": [
            "          Unnamed: 0  # Summer  Gold  Silver  Bronze  Total  # Winter  Gold.1  \\\n",
            "0  Afghanistan (AFG)        13     0       0       2      2         0       0   \n",
            "1      Algeria (ALG)        12     5       2       8     15         3       0   \n",
            "\n",
            "   Silver.1  Bronze.1  Total.1  # Games  Gold.2  Silver.2  Bronze.2  \\\n",
            "0         0         0        0       13       0         0         2   \n",
            "1         0         0        0       15       5         2         8   \n",
            "\n",
            "   Combined total  \n",
            "0               2  \n",
            "1              15  \n",
            "         # Summer        Gold      Silver      Bronze        Total  \\\n",
            "count  146.000000  146.000000  146.000000  146.000000   146.000000   \n",
            "mean    13.383562   32.938356   32.705479   35.136986   100.780822   \n",
            "std      7.006657   96.745184   80.648421   77.118416   252.700436   \n",
            "min      1.000000    0.000000    0.000000    0.000000     0.000000   \n",
            "25%      8.000000    0.000000    1.000000    1.000000     2.000000   \n",
            "50%     13.000000    3.000000    4.000000    6.000000    12.000000   \n",
            "75%     18.000000   23.000000   26.750000   28.750000    85.250000   \n",
            "max     27.000000  976.000000  757.000000  666.000000  2399.000000   \n",
            "\n",
            "         # Winter      Gold.1    Silver.1    Bronze.1     Total.1     # Games  \\\n",
            "count  146.000000  146.000000  146.000000  146.000000  146.000000  146.000000   \n",
            "mean     6.595890    6.568493    6.561644    6.493151   19.623288   19.979452   \n",
            "std      7.349012   18.975086   18.606996   17.499654   54.640914   13.084062   \n",
            "min      0.000000    0.000000    0.000000    0.000000    0.000000    1.000000   \n",
            "25%      0.000000    0.000000    0.000000    0.000000    0.000000   11.000000   \n",
            "50%      5.000000    0.000000    0.000000    0.000000    0.000000   15.000000   \n",
            "75%     10.000000    0.750000    1.750000    1.000000    4.750000   26.000000   \n",
            "max     22.000000  118.000000  111.000000  100.000000  329.000000   49.000000   \n",
            "\n",
            "            Gold.2    Silver.2    Bronze.2  Combined total  \n",
            "count   146.000000  146.000000  146.000000      146.000000  \n",
            "mean     39.506849   39.267123   41.630137      120.404110  \n",
            "std     109.932471   93.984393   89.826117      291.988913  \n",
            "min       0.000000    0.000000    0.000000        1.000000  \n",
            "25%       0.000000    1.000000    1.000000        2.250000  \n",
            "50%       3.000000    4.000000    6.500000       12.000000  \n",
            "75%      24.500000   28.000000   29.000000       87.750000  \n",
            "max    1072.000000  859.000000  750.000000     2681.000000  \n"
          ],
          "name": "stdout"
        }
      ]
    },
    {
      "cell_type": "markdown",
      "metadata": {
        "id": "tr5D8MfVAaUV",
        "colab_type": "text"
      },
      "source": [
        "Pandas plot"
      ]
    },
    {
      "cell_type": "code",
      "metadata": {
        "id": "IgmnYvxqAbzR",
        "colab_type": "code",
        "colab": {}
      },
      "source": [
        "import matplotlib.pyplot as plt\n",
        "%matplotlib inline\n",
        "plt.figure(figsize=(20,5))\n",
        "data = df['Combined total']\n",
        "data.plot.hist(bins=10)"
      ],
      "execution_count": null,
      "outputs": []
    },
    {
      "cell_type": "markdown",
      "metadata": {
        "id": "u8WpmWEbFVj-",
        "colab_type": "text"
      },
      "source": [
        "Kinds of Plots:\n",
        "\n",
        "   scatter, bar, box, spread\n",
        "   ratio, heatmap, surface\n",
        "   histogram, bubble, bubble3d\n",
        "   scatter3d, scattergeo, ohlc\n",
        "   candle, pie, choroplet"
      ]
    },
    {
      "cell_type": "code",
      "metadata": {
        "id": "adnJteioEt9v",
        "colab_type": "code",
        "colab": {
          "base_uri": "https://localhost:8080/",
          "height": 351
        },
        "outputId": "004881a2-3b3b-4ce6-d49a-db5d98c225bc"
      },
      "source": [
        "df.plot(x='Combined total', y='Gold.2', kind='scatter', figsize=(10,5))"
      ],
      "execution_count": 8,
      "outputs": [
        {
          "output_type": "execute_result",
          "data": {
            "text/plain": [
              "<matplotlib.axes._subplots.AxesSubplot at 0x7f89221f0fd0>"
            ]
          },
          "metadata": {
            "tags": []
          },
          "execution_count": 8
        },
        {
          "output_type": "display_data",
          "data": {
            "image/png": "[encoded data removed]",
            "text/plain": [
              "<Figure size 720x360 with 1 Axes>"
            ]
          },
          "metadata": {
            "tags": [],
            "needs_background": "light"
          }
        }
      ]
    },
    {
      "cell_type": "markdown",
      "metadata": {
        "id": "J_BTowiiGRvi",
        "colab_type": "text"
      },
      "source": [
        "## **Plotly Histogram**"
      ]
    },
    {
      "cell_type": "code",
      "metadata": {
        "id": "HnHhDlMOGfVh",
        "colab_type": "code",
        "colab": {}
      },
      "source": [
        "####### These Lines are important for Google Colab ######\n",
        "configure_plotly_browser_state()\n",
        "init_notebook_mode(connected=False)\n",
        "####### Without these lines figure will be null ######\n",
        "\n",
        "\n",
        "df['Combined total'].iplot(\n",
        "    kind='hist',\n",
        "    bins=20,\n",
        "    xTitle='Combined Total',\n",
        "    linecolor='blue',\n",
        "    yTitle='Total',\n",
        "    title='Total Medal Distribution')"
      ],
      "execution_count": null,
      "outputs": []
    },
    {
      "cell_type": "markdown",
      "metadata": {
        "id": "dd6EZ8wOMNDl",
        "colab_type": "text"
      },
      "source": [
        "⚠️*Comment: 121 countries won less than 190 medals in total*"
      ]
    },
    {
      "cell_type": "markdown",
      "metadata": {
        "id": "uaWF-KDfJ6-9",
        "colab_type": "text"
      },
      "source": [
        "## **Percentage Histogram**"
      ]
    },
    {
      "cell_type": "code",
      "metadata": {
        "id": "NN4TE6QsJ_sU",
        "colab_type": "code",
        "colab": {}
      },
      "source": [
        "####### These Lines are important for Google Colab ######\n",
        "configure_plotly_browser_state()\n",
        "init_notebook_mode(connected=False)\n",
        "####### Without these lines figure will be null ######\n",
        "\n",
        "df['Combined total'].iplot(\n",
        "    kind='hist',\n",
        "    bins=30,\n",
        "    xTitle='Total Medals',\n",
        "    linecolor='black',\n",
        "    histnorm='percent',\n",
        "    yTitle='percentage (%)',\n",
        "    title='Medal Distribution')"
      ],
      "execution_count": null,
      "outputs": []
    },
    {
      "cell_type": "markdown",
      "metadata": {
        "id": "QlZysyg4LvRL",
        "colab_type": "text"
      },
      "source": [
        "⚠️*Comment: Whole Combined Medal numbers are distributed among 30 slots. 75+ percent country won less than 100 medals in total*"
      ]
    },
    {
      "cell_type": "code",
      "metadata": {
        "id": "jcpAjpXrKy8G",
        "colab_type": "code",
        "colab": {}
      },
      "source": [
        "####### These Lines are important for Google Colab ######\n",
        "configure_plotly_browser_state()\n",
        "init_notebook_mode(connected=False)\n",
        "####### Without these lines figure will be null ######\n",
        "\n",
        "df['Gold'].iplot(\n",
        "    kind='hist',\n",
        "    bins=10,\n",
        "    xTitle='Gold Medals',\n",
        "    linecolor='black',\n",
        "    histnorm='percent',\n",
        "    yTitle='percentage (%)',\n",
        "    title='Summer Gold Medal Distribution')"
      ],
      "execution_count": null,
      "outputs": []
    },
    {
      "cell_type": "markdown",
      "metadata": {
        "id": "kZ2R6alpLOJf",
        "colab_type": "text"
      },
      "source": [
        "⚠️*Comment: Equally distributed between 10 slots\n",
        "90 Country won less than 100 Gold medals in summer*"
      ]
    },
    {
      "cell_type": "markdown",
      "metadata": {
        "id": "NDbJzi2MI4BF",
        "colab_type": "text"
      },
      "source": [
        "## **Normalized Histogram**"
      ]
    },
    {
      "cell_type": "code",
      "metadata": {
        "id": "Hi9niBj2IgfX",
        "colab_type": "code",
        "colab": {}
      },
      "source": [
        "####### These Lines are important for Google Colab ######\n",
        "configure_plotly_browser_state()\n",
        "init_notebook_mode(connected=False)\n",
        "####### Without these lines figure will be null ######\n",
        "\n",
        "df['Gold'].iplot(\n",
        "    kind='hist',\n",
        "    bins=10,\n",
        "    xTitle='Gold Medals',\n",
        "    linecolor='black',\n",
        "    histnorm='probability density',\n",
        "    yTitle='percentage (%)',\n",
        "    title='Summer Gold Medal Distribution')"
      ],
      "execution_count": null,
      "outputs": []
    },
    {
      "cell_type": "markdown",
      "metadata": {
        "id": "vbgR6d4eIpVx",
        "colab_type": "text"
      },
      "source": [
        "⚠️*Normalization with probability density. histnorm attribute is changed.*"
      ]
    },
    {
      "cell_type": "markdown",
      "metadata": {
        "id": "qRmgnPJqI_Hh",
        "colab_type": "text"
      },
      "source": [
        "## **Histogram with Multple Group / Feature /Attribute**"
      ]
    },
    {
      "cell_type": "code",
      "metadata": {
        "id": "7Wt7ST0TBO0s",
        "colab_type": "code",
        "colab": {}
      },
      "source": [
        "####### These Lines are important for Google Colab ######\n",
        "configure_plotly_browser_state()\n",
        "init_notebook_mode(connected=False)\n",
        "####### Without these lines figure will be null ######\n",
        "\n",
        "df[['Gold', 'Gold.1', 'Combined total']].iplot(\n",
        "    kind='hist',\n",
        "    linecolor='black',\n",
        "    bins=20,\n",
        "    histnorm='percent',\n",
        "    bargap=0.1,\n",
        "    opacity=0.8,\n",
        "    barmode='group',\n",
        "    xTitle='Medals',\n",
        "    yTitle='Percentage (%)',\n",
        "    title='Compare Summer Gold Medals, Winter Gold Medal and Total Medal')"
      ],
      "execution_count": null,
      "outputs": []
    },
    {
      "cell_type": "markdown",
      "metadata": {
        "id": "gxp47-D4H7wy",
        "colab_type": "text"
      },
      "source": [
        "⚠️*Comment: Total number of medals divided into 20 slots. A comparison is given among Gold medals from summer, Gold medals from winter, and total gold medals. Naturally, no surprise there.*"
      ]
    }
  ]
}