{
  "nbformat": 4,
  "nbformat_minor": 0,
  "metadata": {
    "colab": {
      "name": "01_Matplotlib_Discountinuous_Multiple_Column.ipynb",
      "provenance": [],
      "collapsed_sections": []
    },
    "kernelspec": {
      "name": "python3",
      "display_name": "Python 3"
    }
  },
  "cells": [
    {
      "cell_type": "markdown",
      "metadata": {
        "id": "voCDKcc_YBM7",
        "colab_type": "text"
      },
      "source": [
        "# **Plot Multiple Unequal Column with Missing Values**\n"
      ]
    },
    {
      "cell_type": "code",
      "metadata": {
        "id": "OTHklshPX3-W",
        "colab_type": "code",
        "colab": {
          "base_uri": "https://localhost:8080/",
          "height": 669
        },
        "outputId": "3f23ef20-d7e3-4971-b511-91fb43e5ec13"
      },
      "source": [
        "import pandas as pd\n",
        "import matplotlib.pyplot as plt\n",
        "\n",
        "from pandas import Timestamp\n",
        "\n",
        "df = pd.DataFrame({'Date': {0: Timestamp('2020-06-01 00:00:00'),  1: Timestamp('2020-06-02 00:00:00'),  2: Timestamp('2020-06-03 00:00:00'),  3: Timestamp('2020-06-05 00:00:00'),  4: Timestamp('2020-06-06 00:00:00'),  5: Timestamp('2020-06-07 00:00:00'),  6: Timestamp('2020-06-08 00:00:00'),  7: Timestamp('2020-06-10 00:00:00'),  8: Timestamp('2020-06-04 00:00:00'),  9: Timestamp('2020-06-05 00:00:00'),  10: Timestamp('2020-06-06 00:00:00'),  11: Timestamp('2020-06-07 00:00:00'),  12: Timestamp('2020-06-08 00:00:00'),  13: Timestamp('2020-06-09 00:00:00'),  14: Timestamp('2020-06-10 00:00:00'),  15: Timestamp('2020-05-31 00:00:00'),  16: Timestamp('2020-06-01 00:00:00'),  17: Timestamp('2020-06-02 00:00:00'),  18: Timestamp('2020-06-03 00:00:00'),  19: Timestamp('2020-06-05 00:00:00')},\n",
        " 'Value': {0: 0.32,  1: 0.41,  2: 0.12,  3: 0.32,  4: 0.43,  5: 0.23,  6: 0.24,  7: 0.25,  8: 0.26,  9: 0.73,  10: 0.63,  11: 0.53,  12: 0.43,  13: 0.21,  14: 0.43,  15: 0.32,  16: 0.21,  17: 0.13,  18: 0.12,  19: 0.14},\n",
        " 'Category': {0: 'A',  1: 'A',  2: 'A',  3: 'A',  4: 'A',  5: 'A',  6: 'A',  7: 'A',  8: 'B',  9: 'B',  10: 'B',  11: 'B',  12: 'B',  13: 'B',  14: 'B',  15: 'C',  16: 'C',  17: 'C',  18: 'C',  19: 'C'}})\n",
        "df"
      ],
      "execution_count": 5,
      "outputs": [
        {
          "output_type": "execute_result",
          "data": {
            "text/html": [
              "<div>\n",
              "<style scoped>\n",
              "    .dataframe tbody tr th:only-of-type {\n",
              "        vertical-align: middle;\n",
              "    }\n",
              "\n",
              "    .dataframe tbody tr th {\n",
              "        vertical-align: top;\n",
              "    }\n",
              "\n",
              "    .dataframe thead th {\n",
              "        text-align: right;\n",
              "    }\n",
              "</style>\n",
              "<table border=\"1\" class=\"dataframe\">\n",
              "  <thead>\n",
              "    <tr style=\"text-align: right;\">\n",
              "      <th></th>\n",
              "      <th>Date</th>\n",
              "      <th>Value</th>\n",
              "      <th>Category</th>\n",
              "    </tr>\n",
              "  </thead>\n",
              "  <tbody>\n",
              "    <tr>\n",
              "      <th>0</th>\n",
              "      <td>2020-06-01</td>\n",
              "      <td>0.32</td>\n",
              "      <td>A</td>\n",
              "    </tr>\n",
              "    <tr>\n",
              "      <th>1</th>\n",
              "      <td>2020-06-02</td>\n",
              "      <td>0.41</td>\n",
              "      <td>A</td>\n",
              "    </tr>\n",
              "    <tr>\n",
              "      <th>2</th>\n",
              "      <td>2020-06-03</td>\n",
              "      <td>0.12</td>\n",
              "      <td>A</td>\n",
              "    </tr>\n",
              "    <tr>\n",
              "      <th>3</th>\n",
              "      <td>2020-06-05</td>\n",
              "      <td>0.32</td>\n",
              "      <td>A</td>\n",
              "    </tr>\n",
              "    <tr>\n",
              "      <th>4</th>\n",
              "      <td>2020-06-06</td>\n",
              "      <td>0.43</td>\n",
              "      <td>A</td>\n",
              "    </tr>\n",
              "    <tr>\n",
              "      <th>5</th>\n",
              "      <td>2020-06-07</td>\n",
              "      <td>0.23</td>\n",
              "      <td>A</td>\n",
              "    </tr>\n",
              "    <tr>\n",
              "      <th>6</th>\n",
              "      <td>2020-06-08</td>\n",
              "      <td>0.24</td>\n",
              "      <td>A</td>\n",
              "    </tr>\n",
              "    <tr>\n",
              "      <th>7</th>\n",
              "      <td>2020-06-10</td>\n",
              "      <td>0.25</td>\n",
              "      <td>A</td>\n",
              "    </tr>\n",
              "    <tr>\n",
              "      <th>8</th>\n",
              "      <td>2020-06-04</td>\n",
              "      <td>0.26</td>\n",
              "      <td>B</td>\n",
              "    </tr>\n",
              "    <tr>\n",
              "      <th>9</th>\n",
              "      <td>2020-06-05</td>\n",
              "      <td>0.73</td>\n",
              "      <td>B</td>\n",
              "    </tr>\n",
              "    <tr>\n",
              "      <th>10</th>\n",
              "      <td>2020-06-06</td>\n",
              "      <td>0.63</td>\n",
              "      <td>B</td>\n",
              "    </tr>\n",
              "    <tr>\n",
              "      <th>11</th>\n",
              "      <td>2020-06-07</td>\n",
              "      <td>0.53</td>\n",
              "      <td>B</td>\n",
              "    </tr>\n",
              "    <tr>\n",
              "      <th>12</th>\n",
              "      <td>2020-06-08</td>\n",
              "      <td>0.43</td>\n",
              "      <td>B</td>\n",
              "    </tr>\n",
              "    <tr>\n",
              "      <th>13</th>\n",
              "      <td>2020-06-09</td>\n",
              "      <td>0.21</td>\n",
              "      <td>B</td>\n",
              "    </tr>\n",
              "    <tr>\n",
              "      <th>14</th>\n",
              "      <td>2020-06-10</td>\n",
              "      <td>0.43</td>\n",
              "      <td>B</td>\n",
              "    </tr>\n",
              "    <tr>\n",
              "      <th>15</th>\n",
              "      <td>2020-05-31</td>\n",
              "      <td>0.32</td>\n",
              "      <td>C</td>\n",
              "    </tr>\n",
              "    <tr>\n",
              "      <th>16</th>\n",
              "      <td>2020-06-01</td>\n",
              "      <td>0.21</td>\n",
              "      <td>C</td>\n",
              "    </tr>\n",
              "    <tr>\n",
              "      <th>17</th>\n",
              "      <td>2020-06-02</td>\n",
              "      <td>0.13</td>\n",
              "      <td>C</td>\n",
              "    </tr>\n",
              "    <tr>\n",
              "      <th>18</th>\n",
              "      <td>2020-06-03</td>\n",
              "      <td>0.12</td>\n",
              "      <td>C</td>\n",
              "    </tr>\n",
              "    <tr>\n",
              "      <th>19</th>\n",
              "      <td>2020-06-05</td>\n",
              "      <td>0.14</td>\n",
              "      <td>C</td>\n",
              "    </tr>\n",
              "  </tbody>\n",
              "</table>\n",
              "</div>"
            ],
            "text/plain": [
              "         Date  Value Category\n",
              "0  2020-06-01   0.32        A\n",
              "1  2020-06-02   0.41        A\n",
              "2  2020-06-03   0.12        A\n",
              "3  2020-06-05   0.32        A\n",
              "4  2020-06-06   0.43        A\n",
              "5  2020-06-07   0.23        A\n",
              "6  2020-06-08   0.24        A\n",
              "7  2020-06-10   0.25        A\n",
              "8  2020-06-04   0.26        B\n",
              "9  2020-06-05   0.73        B\n",
              "10 2020-06-06   0.63        B\n",
              "11 2020-06-07   0.53        B\n",
              "12 2020-06-08   0.43        B\n",
              "13 2020-06-09   0.21        B\n",
              "14 2020-06-10   0.43        B\n",
              "15 2020-05-31   0.32        C\n",
              "16 2020-06-01   0.21        C\n",
              "17 2020-06-02   0.13        C\n",
              "18 2020-06-03   0.12        C\n",
              "19 2020-06-05   0.14        C"
            ]
          },
          "metadata": {
            "tags": []
          },
          "execution_count": 5
        }
      ]
    },
    {
      "cell_type": "code",
      "metadata": {
        "id": "SBdVo3AFYcav",
        "colab_type": "code",
        "colab": {
          "base_uri": "https://localhost:8080/",
          "height": 421
        },
        "outputId": "dc3c04e1-4be2-4bce-c658-c671fd78382d"
      },
      "source": [
        "df = df.sort_values('Date')\n",
        "df = df.pivot(index='Date', columns='Category', values='Value')\n",
        "df"
      ],
      "execution_count": 6,
      "outputs": [
        {
          "output_type": "execute_result",
          "data": {
            "text/html": [
              "<div>\n",
              "<style scoped>\n",
              "    .dataframe tbody tr th:only-of-type {\n",
              "        vertical-align: middle;\n",
              "    }\n",
              "\n",
              "    .dataframe tbody tr th {\n",
              "        vertical-align: top;\n",
              "    }\n",
              "\n",
              "    .dataframe thead th {\n",
              "        text-align: right;\n",
              "    }\n",
              "</style>\n",
              "<table border=\"1\" class=\"dataframe\">\n",
              "  <thead>\n",
              "    <tr style=\"text-align: right;\">\n",
              "      <th>Category</th>\n",
              "      <th>A</th>\n",
              "      <th>B</th>\n",
              "      <th>C</th>\n",
              "    </tr>\n",
              "    <tr>\n",
              "      <th>Date</th>\n",
              "      <th></th>\n",
              "      <th></th>\n",
              "      <th></th>\n",
              "    </tr>\n",
              "  </thead>\n",
              "  <tbody>\n",
              "    <tr>\n",
              "      <th>2020-05-31</th>\n",
              "      <td>NaN</td>\n",
              "      <td>NaN</td>\n",
              "      <td>0.32</td>\n",
              "    </tr>\n",
              "    <tr>\n",
              "      <th>2020-06-01</th>\n",
              "      <td>0.32</td>\n",
              "      <td>NaN</td>\n",
              "      <td>0.21</td>\n",
              "    </tr>\n",
              "    <tr>\n",
              "      <th>2020-06-02</th>\n",
              "      <td>0.41</td>\n",
              "      <td>NaN</td>\n",
              "      <td>0.13</td>\n",
              "    </tr>\n",
              "    <tr>\n",
              "      <th>2020-06-03</th>\n",
              "      <td>0.12</td>\n",
              "      <td>NaN</td>\n",
              "      <td>0.12</td>\n",
              "    </tr>\n",
              "    <tr>\n",
              "      <th>2020-06-04</th>\n",
              "      <td>NaN</td>\n",
              "      <td>0.26</td>\n",
              "      <td>NaN</td>\n",
              "    </tr>\n",
              "    <tr>\n",
              "      <th>2020-06-05</th>\n",
              "      <td>0.32</td>\n",
              "      <td>0.73</td>\n",
              "      <td>0.14</td>\n",
              "    </tr>\n",
              "    <tr>\n",
              "      <th>2020-06-06</th>\n",
              "      <td>0.43</td>\n",
              "      <td>0.63</td>\n",
              "      <td>NaN</td>\n",
              "    </tr>\n",
              "    <tr>\n",
              "      <th>2020-06-07</th>\n",
              "      <td>0.23</td>\n",
              "      <td>0.53</td>\n",
              "      <td>NaN</td>\n",
              "    </tr>\n",
              "    <tr>\n",
              "      <th>2020-06-08</th>\n",
              "      <td>0.24</td>\n",
              "      <td>0.43</td>\n",
              "      <td>NaN</td>\n",
              "    </tr>\n",
              "    <tr>\n",
              "      <th>2020-06-09</th>\n",
              "      <td>NaN</td>\n",
              "      <td>0.21</td>\n",
              "      <td>NaN</td>\n",
              "    </tr>\n",
              "    <tr>\n",
              "      <th>2020-06-10</th>\n",
              "      <td>0.25</td>\n",
              "      <td>0.43</td>\n",
              "      <td>NaN</td>\n",
              "    </tr>\n",
              "  </tbody>\n",
              "</table>\n",
              "</div>"
            ],
            "text/plain": [
              "Category       A     B     C\n",
              "Date                        \n",
              "2020-05-31   NaN   NaN  0.32\n",
              "2020-06-01  0.32   NaN  0.21\n",
              "2020-06-02  0.41   NaN  0.13\n",
              "2020-06-03  0.12   NaN  0.12\n",
              "2020-06-04   NaN  0.26   NaN\n",
              "2020-06-05  0.32  0.73  0.14\n",
              "2020-06-06  0.43  0.63   NaN\n",
              "2020-06-07  0.23  0.53   NaN\n",
              "2020-06-08  0.24  0.43   NaN\n",
              "2020-06-09   NaN  0.21   NaN\n",
              "2020-06-10  0.25  0.43   NaN"
            ]
          },
          "metadata": {
            "tags": []
          },
          "execution_count": 6
        }
      ]
    },
    {
      "cell_type": "code",
      "metadata": {
        "id": "LxcHkXCOZzos",
        "colab_type": "code",
        "colab": {
          "base_uri": "https://localhost:8080/",
          "height": 320
        },
        "outputId": "6620ef0f-286a-4117-b1d2-0cebefde9adc"
      },
      "source": [
        "df.plot()"
      ],
      "execution_count": 8,
      "outputs": [
        {
          "output_type": "execute_result",
          "data": {
            "text/plain": [
              "<matplotlib.axes._subplots.AxesSubplot at 0x7f021df57e10>"
            ]
          },
          "metadata": {
            "tags": []
          },
          "execution_count": 8
        },
        {
          "output_type": "display_data",
          "data": {
            "image/png": "[encoded data removed]",
            "text/plain": [
              "<Figure size 432x288 with 1 Axes>"
            ]
          },
          "metadata": {
            "tags": [],
            "needs_background": "light"
          }
        }
      ]
    },
    {
      "cell_type": "code",
      "metadata": {
        "id": "Msc5lAB_YhE6",
        "colab_type": "code",
        "colab": {
          "base_uri": "https://localhost:8080/",
          "height": 700
        },
        "outputId": "068b928e-fceb-438b-c992-0f26d558e33e"
      },
      "source": [
        "plt.figure(figsize=(12,12))\n",
        "ax=plt.gca()\n",
        "for col in df.columns:\n",
        "        plot_data = df[col].dropna()\n",
        "        ax.plot(plot_data.index.values, plot_data.values, label=col)\n",
        "plt.show()"
      ],
      "execution_count": 7,
      "outputs": [
        {
          "output_type": "display_data",
          "data": {
            "image/png": "[encoded data removed]",
            "text/plain": [
              "<Figure size 864x864 with 1 Axes>"
            ]
          },
          "metadata": {
            "tags": [],
            "needs_background": "light"
          }
        }
      ]
    }
  ]
}